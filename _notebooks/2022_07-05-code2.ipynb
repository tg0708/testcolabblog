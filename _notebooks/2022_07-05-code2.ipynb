{
 "cells": [
  {
   "cell_type": "markdown",
   "id": "51a399a7",
   "metadata": {},
   "source": [
    "# \"coding_주피터노트북!!\"\n",
    "> \"요약!!\"\n",
    "\n",
    "- toc:true\n",
    "- branch: master\n",
    "- badges: true\n",
    "- comments: true\n",
    "- author: tg0708\n",
    "- categories: [manual]"
   ]
  },
  {
   "cell_type": "markdown",
   "id": "38a88bdd",
   "metadata": {},
   "source": [
    "# Warnings"
   ]
  },
  {
   "cell_type": "code",
   "execution_count": null,
   "id": "517b344e",
   "metadata": {},
   "outputs": [],
   "source": [
    "import warnings\n",
    "warnings.filterwarnings('ignore')"
   ]
  },
  {
   "cell_type": "markdown",
   "id": "f1d116a2",
   "metadata": {},
   "source": [
    "# Bs4"
   ]
  },
  {
   "cell_type": "markdown",
   "id": "7ab7a05c",
   "metadata": {},
   "source": [
    "## 패턴"
   ]
  },
  {
   "cell_type": "markdown",
   "id": "561bdb5d",
   "metadata": {},
   "source": [
    "### 기본 패턴"
   ]
  },
  {
   "cell_type": "markdown",
   "id": "be217247",
   "metadata": {},
   "source": [
    "~~~ python\n",
    "# find\n",
    "import requests\n",
    "from bs4 import BeautifulSoup\n",
    "res = requests.get(\"크롤링 할 주소\")\n",
    "soup = BeautifulSoup(res.content, \"html.parser\")\n",
    "mydata = soup.find('title')\n",
    "print(mydata.text)\n",
    "~~~"
   ]
  },
  {
   "cell_type": "markdown",
   "id": "c82746f2",
   "metadata": {},
   "source": [
    "~~~ python \n",
    "# select\n",
    "import requests\n",
    "from bs4 import BeautifulSoup\n",
    "res = requests.get('https://davelee-fun.github.io/blog/crawl_test_css.html')\n",
    "soup = BeautifulSoup(res.content,\n",
    "'html.parser')\n",
    "items = soup.select('li')\n",
    "for item in items:\n",
    "    print (item.get_text())\n",
    "~~~"
   ]
  },
  {
   "cell_type": "markdown",
   "id": "f2bcc518",
   "metadata": {},
   "source": [
    "### 응답 페이지 확인"
   ]
  },
  {
   "cell_type": "markdown",
   "id": "2cc6e978",
   "metadata": {},
   "source": [
    "~~~ python\n",
    "import requests\n",
    "from bs4 import BeautifulSoup\n",
    "\n",
    "res = requests.get('https://davelee-fun.github.io/xxx')\n",
    "if res.status_code != 200:\n",
    "    print ('페이지 없음')\n",
    "else:\n",
    "    soup = BeautifulSoup(res.content, 'html.parser')\n",
    "\n",
    "    data = soup.select('h4.card-text')\n",
    "    for item in data:\n",
    "        print (item.get_text())\n",
    "~~~"
   ]
  },
  {
   "cell_type": "markdown",
   "id": "b969d896",
   "metadata": {},
   "source": [
    "### 여러 페이지 "
   ]
  },
  {
   "cell_type": "markdown",
   "id": "e91e2a74",
   "metadata": {},
   "source": [
    "~~~ python\n",
    "import requests\n",
    "from bs4 import BeautifulSoup\n",
    "\n",
    "for page_num in range(10):\n",
    "    if page_num == 0:\n",
    "        res = requests.get('https://davelee-fun.github.io/')\n",
    "    else:\n",
    "        res = requests.get('https://davelee-fun.github.io/page' + str(page_num + 1))\n",
    "    soup = BeautifulSoup(res.content, 'html.parser')\n",
    "\n",
    "    data = soup.select('h4.card-text')\n",
    "    for item in data:\n",
    "        print (item.get_text().strip())\n",
    "~~~"
   ]
  },
  {
   "cell_type": "markdown",
   "id": "2c3fa691",
   "metadata": {},
   "source": [
    "### 엑셀 저장"
   ]
  },
  {
   "cell_type": "code",
   "execution_count": 1,
   "id": "67ec643c",
   "metadata": {},
   "outputs": [
    {
     "name": "stdout",
     "output_type": "stream",
     "text": [
      "Requirement already satisfied: openpyxl in c:\\users\\tgkang\\anaconda3\\lib\\site-packages (3.0.9)\n",
      "Requirement already satisfied: et-xmlfile in c:\\users\\tgkang\\anaconda3\\lib\\site-packages (from openpyxl) (1.1.0)\n"
     ]
    }
   ],
   "source": [
    "! pip install openpyxl"
   ]
  },
  {
   "cell_type": "markdown",
   "id": "bdd9d5d3",
   "metadata": {},
   "source": [
    "~~~ python\n",
    "import openpyxl\n",
    "\n",
    "def write_excel_template(filename, sheetname, listdata):\n",
    "    excel_file = openpyxl.Workbook()\n",
    "    excel_sheet = excel_file.active\n",
    "    excel_sheet.column_dimensions['A'].width = 100\n",
    "    excel_sheet.column_dimensions['B'].width = 20\n",
    "    \n",
    "    if sheetname != '':\n",
    "        excel_sheet.title = sheetname\n",
    "    \n",
    "    for item in listdata:\n",
    "        excel_sheet.append(item)\n",
    "    excel_file.save(filename)\n",
    "    excel_file.close()\n",
    "~~~"
   ]
  },
  {
   "cell_type": "markdown",
   "id": "3eb115ac",
   "metadata": {},
   "source": [
    "~~~ python\n",
    "import requests\n",
    "from bs4 import BeautifulSoup\n",
    "\n",
    "product_lists = list()\n",
    "\n",
    "for page_num in range(10):\n",
    "    if page_num == 0:\n",
    "        res = requests.get('https://davelee-fun.github.io/')\n",
    "    else:\n",
    "        res = requests.get('https://davelee-fun.github.io/page' + str(page_num + 1))\n",
    "    soup = BeautifulSoup(res.content, 'html.parser')\n",
    "\n",
    "    data = soup.select('div.card')\n",
    "    for item in data:\n",
    "        product_name = item.select_one('div.card-body h4.card-text')\n",
    "        product_date = item.select_one('div.wrapfooter span.post-date')\n",
    "        product_info = [product_name.get_text().strip(), product_date.get_text()] # 리스트\n",
    "        product_lists.append(product_info)\n",
    "write_excel_template('tmp.xlsx', '상품정보', product_lists)\n",
    "~~~"
   ]
  },
  {
   "cell_type": "markdown",
   "id": "34f9fe49",
   "metadata": {},
   "source": [
    "## find"
   ]
  },
  {
   "cell_type": "markdown",
   "id": "1a8f5278",
   "metadata": {},
   "source": [
    "~~~ python\n",
    "data = soup.find('p', class_='cssstyle') # 태그, 클래스\n",
    "data = soup.find('p', 'cssstyle') # 태그, 클래스\n",
    "data = soup.find('p', attrs = {'align': 'center'}) # 태그, 속성\n",
    "data = soup.find(id='body') # 아이디\n",
    "data = soup.find('h3','tit_view')\n",
    "data = soup.find('div', 'layer_util layer_summary')\n",
    "~~~"
   ]
  },
  {
   "cell_type": "markdown",
   "id": "0b22de10",
   "metadata": {},
   "source": [
    "## select"
   ]
  },
  {
   "cell_type": "markdown",
   "id": "2f7d5ed1",
   "metadata": {},
   "source": [
    "~~~ python\n",
    "items = soup.select('.course') # 클래스\n",
    "items = soup.select('#start') # 아이디\n",
    "items = soup.select('td[valign=\"top\"]') # 태그, 특정 속성\n",
    "items = soup.findAll(\"td\", {\"valign\" : re.compile(r\".*\")}) # 정규 표현식\n",
    "items = soup.select('li.course.paid') # 태그, 클래스1, 클래스2\n",
    "items = soup.select('html body h1') # 하위 태그\n",
    "items = soup.select('ul > li') # 직계 하위 태그\n",
    "items = soup.select('ul#hobby_course_list li.course') # 태그, 아이디, 하위 태그, 클래스\n",
    "item = soup.select_one('ul#dev_course_list > li.course.paid')\n",
    "\n",
    "~~~"
   ]
  },
  {
   "cell_type": "markdown",
   "id": "9352c757",
   "metadata": {},
   "source": [
    "## 활용예제"
   ]
  },
  {
   "cell_type": "markdown",
   "id": "45e813db",
   "metadata": {},
   "source": [
    "~~~ python\n",
    "# G마켓 베스트 상품\n",
    "url = \"http://corners.gmarket.co.kr/Bestsellers?viewType=G&groupCode=G06\"\n",
    "res = requests.get(url)\n",
    "if res.status_code != 200:\n",
    "    print(\"응답 없음\")\n",
    "else :\n",
    "    soup = BeautifulSoup(res.content, 'html.parser')\n",
    "    \n",
    "bestlist = soup.select('.best-list li')\n",
    "for idx, item in enumerate(bestlist):\n",
    "    item_list = item.select_one('div .itemname').text.strip()\n",
    "    price_list = item.select_one('div .s-price span').text.strip()\n",
    "    print(idx+1,item_list,\" - \", price_list)\n",
    "~~~"
   ]
  },
  {
   "cell_type": "markdown",
   "id": "c2100b29",
   "metadata": {},
   "source": [
    "# Selenium"
   ]
  },
  {
   "cell_type": "markdown",
   "id": "0b773bc7",
   "metadata": {},
   "source": [
    "## 기본 패턴"
   ]
  },
  {
   "cell_type": "code",
   "execution_count": 227,
   "id": "7d56d14b",
   "metadata": {},
   "outputs": [],
   "source": [
    "from selenium import webdriver\n",
    "from selenium.webdriver.common.keys import Keys\n",
    "from selenium.webdriver.common.by import By\n",
    "from selenium.webdriver.chrome.service import Service\n",
    "from webdriver_manager.chrome import ChromeDriverManager\n",
    "import time\n",
    "# 드라이버 생성\n",
    "# chromedriver 설치된 경로를 정확히 기재해야 함\n",
    "chromedriver = r'C:\\\\Users\\\\tgkang\\\\Documents\\\\크롤링2\\\\103\\\\chromedriver.exe'\n",
    "\n",
    "driver = webdriver.Chrome(service=Service(chromedriver))"
   ]
  },
  {
   "cell_type": "markdown",
   "id": "faa44016",
   "metadata": {},
   "source": [
    "## Autoinstaller "
   ]
  },
  {
   "cell_type": "markdown",
   "id": "7e031901",
   "metadata": {},
   "source": [
    "~~~ python\n",
    "from selenium import webdriver\n",
    "import chromedriver_autoinstaller\n",
    "import os\n",
    "\n",
    "from selenium.webdriver.common.by import By\n",
    "from selenium.webdriver.chrome.service import Service\n",
    "from webdriver_manager.chrome import ChromeDriverManager\n",
    "\n",
    "# Check if chrome driver is installed or not\n",
    "chrome_ver = chromedriver_autoinstaller.get_chrome_version().split('.')[0]\n",
    "driver_path = f'./{chrome_ver}/chromedriver.exe'\n",
    "if os.path.exists(driver_path):\n",
    "    print(f\"chrom driver is insatlled : {driver_path}\")\n",
    "else:\n",
    "    print(f\"install the chrome driver(ver : {chrome_ver})\")\n",
    "    chromedriver_autoinstaller.install(True)\n",
    "driver = webdriver.Chrome(service=Service(driver_path))\n",
    "~~~"
   ]
  },
  {
   "cell_type": "markdown",
   "id": "562e9adb",
   "metadata": {},
   "source": [
    "## Options"
   ]
  },
  {
   "cell_type": "markdown",
   "id": "4ec233f3",
   "metadata": {},
   "source": [
    "~~~ python\n",
    "from selenium import webdriver\n",
    "from selenium.webdriver.chrome.options import Options\n",
    "import warnings\n",
    "import chromedriver_autoinstaller\n",
    "warnings.filterwarnings('ignore')\n",
    "\n",
    "options = Options()\n",
    "\n",
    "options.add_argument('headless') # headless 모드\n",
    "options.add_argument('window-size=1920*1080')\n",
    "options.add_argument('--start-maximized') # 최대화\n",
    "options.add_argument('--start-fullscreen') # 풀스크린 코드\n",
    "\n",
    "options.add_argument('--mute-audio') #브라우저에 음소거 옵션을 적용합니다.\n",
    "options.add_argument('incognito') #시크릿 모드의 브라우저가 실행됩니다.\n",
    "\n",
    "options.add_argument('disable-gpu')\n",
    "options.add_argument('User-Agent:Mozilla/5.0 (Windows NT 10.0; Win64; x64) AppleWebKit/537.36 (KHTML, like Gecko) Chrome/103.0.0.0 Safari/537.36')\n",
    "options.add_argument('lang=ko-KR')\n",
    "\n",
    "# 자동화 문구 제거\n",
    "options.add_experimental_option(\"useAutomationExtension\", False)\n",
    "options.add_experimental_option(\"excludeSwitches\", ['enable-automation'])\n",
    "\n",
    "# 디버거 모드 - 안됨\n",
    "options.add_experimental_option(\"debuggerAddress\", \"127.0.0.1:9222\")\n",
    "\n",
    "driver_path = './103/chromedriver.exe'\n",
    "driver = webdriver.Chrome(executable_path= driver_path, options= options)\n",
    "\n",
    "~~~"
   ]
  },
  {
   "cell_type": "markdown",
   "id": "b6721912",
   "metadata": {},
   "source": [
    "## Driver"
   ]
  },
  {
   "cell_type": "markdown",
   "id": "4a3ba688",
   "metadata": {},
   "source": [
    "### Assert"
   ]
  },
  {
   "cell_type": "markdown",
   "id": "676a7739",
   "metadata": {},
   "source": [
    "~~~ python\n",
    "# Selenium은 웹테스트를 위한 프레임워크로 다음과 같은 방식으로 웹테스트를 자동으로 진행함 (참고)\n",
    "print (driver.title)\n",
    "assert \"Teddy\" in driver.title\n",
    "~~~"
   ]
  },
  {
   "cell_type": "markdown",
   "id": "fd819ec8",
   "metadata": {},
   "source": [
    "### Size"
   ]
  },
  {
   "cell_type": "markdown",
   "id": "ec1d697f",
   "metadata": {},
   "source": [
    "~~~ python\n",
    "# 웹페이지 전체 사이즈\n",
    "driver.maximize_window()\n",
    "# 웹페이지 전체 사이즈\n",
    "driver.minimize_window()\n",
    "# 웹페이지 사이즈 조절\n",
    "driver.set_window_size(1000,1000)\n",
    "# 풀스크린\n",
    "driver.fullscreen_window()\n",
    "~~~"
   ]
  },
  {
   "cell_type": "markdown",
   "id": "e7f9b3cc",
   "metadata": {},
   "source": [
    "### Handle"
   ]
  },
  {
   "cell_type": "markdown",
   "id": "8e4184b7",
   "metadata": {},
   "source": [
    "~~~ python\n",
    "# 현재 핸들중인 창 목록 조회\n",
    "driver.window_handles\n",
    "driver.window_handles[0] # 첫번째 창\n",
    "driver.window_handles[1] # 두번째 창\n",
    "driver.window_handles[-1] # 가장 최근에 열린창\n",
    "~~~\n"
   ]
  },
  {
   "cell_type": "markdown",
   "id": "5834c401",
   "metadata": {},
   "source": [
    "### Switch"
   ]
  },
  {
   "cell_type": "markdown",
   "id": "6776e8b9",
   "metadata": {},
   "source": [
    "~~~ python\n",
    "# switch\n",
    "driver.switch_to.window(driver.window_handles[1])\n",
    "# iframe으로 이동\n",
    "driver.switch_to.frame('iframe name')\n",
    "# 상위 iframe으로 이동\n",
    "driver.switch_to.parent_frame()\n",
    "# 초기 frame으로 이동\n",
    "driver.switch_to.default_content()\n",
    "~~~"
   ]
  },
  {
   "cell_type": "markdown",
   "id": "2d58065e",
   "metadata": {},
   "source": [
    "### Screenshot"
   ]
  },
  {
   "cell_type": "markdown",
   "id": "f8e27ec1",
   "metadata": {},
   "source": [
    "~~~ python\n",
    "# 해당 엘리멘트 스크린샷 후 저장\n",
    "element.screenshot(\"gd.png\") # 특정 태그가 차지하는 만큼 스크린 샷\n",
    "# body로 지정시 전체 스크린 샷 \n",
    "element = driver.find_elements(By.TAG_NAME, \"body\")\n",
    "element.screenshot(\"test.png\")\n",
    "~~~\n"
   ]
  },
  {
   "cell_type": "markdown",
   "id": "63182641",
   "metadata": {},
   "source": [
    "### URL"
   ]
  },
  {
   "cell_type": "markdown",
   "id": "f056b392",
   "metadata": {},
   "source": [
    "~~~ python\n",
    "# 현재 url 가져오기\n",
    "driver.current_url\n",
    "~~~"
   ]
  },
  {
   "cell_type": "markdown",
   "id": "9e5391e8",
   "metadata": {},
   "source": [
    "###  Title"
   ]
  },
  {
   "cell_type": "markdown",
   "id": "66e33f84",
   "metadata": {},
   "source": [
    "~~~ python\n",
    "# 웹페이지 타이틀 가져오기\n",
    "driver.title\n",
    "~~~"
   ]
  },
  {
   "cell_type": "markdown",
   "id": "9c20f169",
   "metadata": {},
   "source": [
    "### Clear text"
   ]
  },
  {
   "cell_type": "markdown",
   "id": "78cd1e99",
   "metadata": {},
   "source": [
    "~~~ python\n",
    "# input 텍스트 초기화\n",
    "element.clear()\n",
    "~~~"
   ]
  },
  {
   "cell_type": "markdown",
   "id": "ad92bfbc",
   "metadata": {},
   "source": [
    "### Javascript"
   ]
  },
  {
   "cell_type": "markdown",
   "id": "1b255384",
   "metadata": {},
   "source": [
    "~~~ python\n",
    "# user agent 가져오기\n",
    "driver.execute_script('return navigator.userAgent')\n",
    "driver.execute_script(\"window.scrollTo(0,Y)\") # Y까지 스크롤 내리기\n",
    "driver.execute_script(\"window.scrollTo(0, document.body.scrollHeight)\") # 끝까지 스크롤\n",
    "~~~\n"
   ]
  },
  {
   "cell_type": "markdown",
   "id": "d9103c47",
   "metadata": {},
   "source": [
    "## Find_element"
   ]
  },
  {
   "cell_type": "markdown",
   "id": "df116724",
   "metadata": {},
   "source": [
    "### ID, CSS_SELECTOR"
   ]
  },
  {
   "cell_type": "markdown",
   "id": "743a2ec4",
   "metadata": {},
   "source": [
    "~~~ python\n",
    "elem = driver.find_element(By.ID,\"navbarMediumish\")\n",
    "elems = driver.find_elements(By.CSS_SELECTOR, \"div.card-body > h4\")\n",
    "~~~"
   ]
  },
  {
   "cell_type": "markdown",
   "id": "97091bc2",
   "metadata": {},
   "source": [
    "### Get_attribute"
   ]
  },
  {
   "cell_type": "markdown",
   "id": "893c76e1",
   "metadata": {},
   "source": [
    "~~~ python\n",
    "# 특정 attribute \n",
    "elem = driver.find_elements(By.TAG_NAME, \"meta\")\n",
    "for item in elem:\n",
    "    data = item.get_attribute('content')\n",
    "    print(data)\n",
    "~~~ "
   ]
  },
  {
   "cell_type": "markdown",
   "id": "4312ae71",
   "metadata": {},
   "source": [
    "### Image"
   ]
  },
  {
   "cell_type": "markdown",
   "id": "934ef5b1",
   "metadata": {},
   "source": [
    "~~~ python\n",
    "# 이미지 URL 추출\n",
    "elems = driver.find_elements(By.CSS_SELECTOR, \"div.wrapthumbnail img\")\n",
    "sources = list()\n",
    "for elem in elems:\n",
    "    sources.append(elem.get_attribute('src'))\n",
    "~~~"
   ]
  },
  {
   "cell_type": "markdown",
   "id": "c712a9d9",
   "metadata": {},
   "source": [
    "~~~ python\n",
    "# 이미지 다운 받기\n",
    "from urllib.request import urlretrieve\n",
    "image_path = r\"C:\\Users\\tgkang\\Documents\\크롤링2\\103\\\\\"\n",
    "for index, source in enumerate(sources):\n",
    "    urlretrieve(source,  image_path + \"image\" + str(index) + \".\" + source.split(\".\")[-1])\n",
    "~~~"
   ]
  },
  {
   "cell_type": "markdown",
   "id": "12a04f06",
   "metadata": {},
   "source": [
    "### Xpath"
   ]
  },
  {
   "cell_type": "markdown",
   "id": "878c10d1",
   "metadata": {},
   "source": [
    "   - / : 절대경로를 나타냄 (예: /html/body/div/div)\n",
    "   - // : 문서내에서 검색 (예: //h1 -> h1 태그를 가진 데이터를 선택)\n",
    "   - //*[@href] : href 속성이 있는 모든 태그 선택\n",
    "   - //a[@href='http://google.com'] : a 태그의 href 속성에 http://google.com 속성값을 가진 모든 태그 선택 \n",
    "   - (//a)[3] : 문서의 세 번째 링크 선택\n",
    "   - (//table)[last()] : 문서의 마지막 테이블 선택\n",
    "   - (//a)[position() < 3] : 문서의 처음 두 링크 선택\n",
    "   - //div[@*] 속성이 하나라도 있는 div 태그 선택"
   ]
  },
  {
   "cell_type": "markdown",
   "id": "b4114e5b",
   "metadata": {},
   "source": [
    "~~~ python\n",
    "# h1 태그 중 첫번째 태그 가져오기\n",
    "title = driver.find_element(By.XPATH, \"//h1\")\n",
    "# href 속성 모두 선택\n",
    "datas = driver.find_elements(By.XPATH, '//*[@href]')\n",
    "# ID = begin 인 속성 모두 찾기\n",
    "datas = driver.find_elements(By.XPATH, '//*[@id=\"begin\"]')\n",
    "# class 의 값이 skill-name 인 div 태그들 중에, HTML 코드 위에서 세번째 해당하는 div 태그 선택 \n",
    "datas = driver.find_elements(By.XPATH, \"//div[@class='skill-name']\")\n",
    "# class값이 best-list 이고 그 아래 ul li a 태그 \n",
    "datas = driver.find_elements(By.XPATH, \"//div[@class='best-list']/ul/li/a\")\n",
    "\n",
    "# 첫 번째 데이터 선택\n",
    "item = driver.find_element(By.XPATH, \"(//tr)[position()=1]\")\n",
    "# 3 번째 보다 작은 번째 선택\n",
    "item = driver.find_element(By.XPATH, \"(//tr)[position()<3]\")\n",
    "# 마지막 데이터 선택\n",
    "item = driver.find_element(By.XPATH, \"(//tr)[last()]\")\n",
    "\n",
    "# 속성을 하나 이상 가진 p 태그\n",
    "item = driver.find_element_by_xpath(\"//p[@*]\")\n",
    "# 다중 선택\n",
    "elem = driver.find_element_by_xpath(\"//*[contains(@class, 'course') and contains(@class, 'paid')]\")\n",
    "~~~"
   ]
  },
  {
   "cell_type": "markdown",
   "id": "13761256",
   "metadata": {},
   "source": [
    "### Title tag  예외"
   ]
  },
  {
   "cell_type": "markdown",
   "id": "9053b620",
   "metadata": {},
   "source": [
    "\n",
    " ~~~ python   \n",
    "# css selector로 title을 선택해서 text를 뽑으면 나오지 않음\n",
    "elem = driver.find_element(By.CSS_SELECTOR, \"title\")\n",
    "print ('text:', elem.text) # 가져오지 않음(# text는 보통 body안의 내용을 뽑을 때만)\n",
    "print ('get_attribute:', elem.get_attribute('text')) # 가져와짐\n",
    "print ('driver.title:', driver.title) \n",
    "# elem = driver.find_element_by_css_selector('h1')\n",
    "elem = driver.find_element(By.CSS_SELECTOR, \"h1\")\n",
    "print ('text:', elem.text) # 됨\n",
    "print ('get_attribute:', elem.get_attribute('text')) # 될 것 처럼 보이지만 안된다.\n",
    "\n",
    "~~~"
   ]
  },
  {
   "cell_type": "markdown",
   "id": "5df32a16",
   "metadata": {},
   "source": [
    "## Send_key"
   ]
  },
  {
   "cell_type": "markdown",
   "id": "d73f0c88",
   "metadata": {},
   "source": [
    "~~~ python\n",
    "from selenium.webdriver.common.keys import Keys\n",
    "# 사용가능한 키 조회\n",
    "dir(Keys)\n",
    "# 키 이벤트 전송\n",
    "elem.send_keys(\"error@error.com\")\n",
    "# 엔터 입력\n",
    "elem.send_keys(Keys.RETURN)\n",
    "~~~"
   ]
  },
  {
   "cell_type": "markdown",
   "id": "33fff4cd",
   "metadata": {},
   "source": [
    "# Scrapy"
   ]
  },
  {
   "cell_type": "markdown",
   "id": "11362e21",
   "metadata": {},
   "source": [
    "## 설치"
   ]
  },
  {
   "cell_type": "markdown",
   "id": "be293c9b",
   "metadata": {},
   "source": [
    "~~~ python\n",
    "# 윈도우/맥 공통\n",
    "! pip install scrapy\n",
    "~~~"
   ]
  },
  {
   "cell_type": "markdown",
   "id": "8f313c12",
   "metadata": {},
   "source": [
    "~~~ python\n",
    "# 윈도우에서 정상 설치 안될 시\n",
    "! pip install --upgrade setuptools\n",
    "! pip install pypiwin32\n",
    "! pip install twisted[tls]\n",
    "\n",
    "~~~"
   ]
  },
  {
   "cell_type": "markdown",
   "id": "64303791",
   "metadata": {},
   "source": [
    "## 프로젝트 생성"
   ]
  },
  {
   "cell_type": "markdown",
   "id": "cae59703",
   "metadata": {},
   "source": [
    "~~~ python\n",
    "# 프로젝트 생성\n",
    "scrapy startproject ecommerce\n",
    "\n",
    "# 크롤러 작성\n",
    "scrapy genspider <크롤러이름> <크롤링주소>\n",
    "scrapy genspider gmarket \"www.gmarket.co.kr\"\n",
    "\n",
    "# 크롤러 실행\n",
    "scrapy crawl gmarket\n",
    "~~~\n"
   ]
  },
  {
   "cell_type": "markdown",
   "id": "4777f03b",
   "metadata": {},
   "source": [
    "## Scrapy shell"
   ]
  },
  {
   "cell_type": "markdown",
   "id": "c98223d8",
   "metadata": {},
   "source": [
    "~~~ python\n",
    "# Scrapy shell 접속\n",
    "scrapy shell \"http://corners.gmarket.co.kr/Bestsellers\"\n",
    "exit # 종료\n",
    "\n",
    "# response요청한 페이지 보기\n",
    "view(response)\n",
    "# response url 확인\n",
    "response.url\n",
    "~~~"
   ]
  },
  {
   "cell_type": "markdown",
   "id": "e4aadc57",
   "metadata": {},
   "source": [
    "## element"
   ]
  },
  {
   "cell_type": "markdown",
   "id": "4d1318f2",
   "metadata": {},
   "source": [
    "~~~ python\n",
    "# css selector\n",
    "response.css('head > title').get()\n",
    "response.css('head > title').getall()\n",
    "response.css('head > title::text').get()\n",
    "\n",
    "response.css('div.best-list li > a::text').getall()\n",
    "response.css('div.best-list li > a::text')[1].get()\n",
    "~~~"
   ]
  },
  {
   "cell_type": "markdown",
   "id": "f079a4aa",
   "metadata": {},
   "source": [
    "~~~ python\n",
    "# xpath\n",
    "response.xpath('//div[@class=\"best-list\"]/ul/li/a').getall()\n",
    "response.xpath('//div[@class=\"best-list\"]/ul/li/a/text()').getall()\n",
    "~~~"
   ]
  },
  {
   "cell_type": "markdown",
   "id": "7a6efed0",
   "metadata": {},
   "source": [
    "~~~ python\n",
    "# re 정규표신혁\n",
    "# \\n은 파이썬 3.0 이상은 한글도 포함 but reg 홈페이지에는 반영 안되어 있음\n",
    "response.css('div.best-list li > a::text')[1].re('(\\w+)')\n",
    "response.xpath('//div[@class=\"best-list\"]/ul/li/a/text()')[1].re('(\\w+)')\n",
    "~~~"
   ]
  },
  {
   "cell_type": "markdown",
   "id": "4b3346c4",
   "metadata": {},
   "source": [
    "# Excel"
   ]
  },
  {
   "cell_type": "markdown",
   "id": "6a43bbea",
   "metadata": {},
   "source": [
    "~~~ python\n",
    "import win32com.client as win32\n",
    "excel = win32.gencache.EnsureDispatch('Excel.Application')\n",
    "wb = excel.Workbooks.Add()\n",
    "ws = wb.Sheets(\"Sheet1\")\n",
    "rng = ws.Range(\"B2\")\n",
    "image = ws.Shapes.AddPicture(r\"C:\\Users\\tgkang\\Documents\\크롤링2\\103\\image0.jpg\", False, True, rng.Left, rng.Top, 100, 100)\n",
    "excel.Visible=True\n",
    "~~~ "
   ]
  },
  {
   "cell_type": "markdown",
   "id": "459f324f",
   "metadata": {},
   "source": [
    "## openpyxl"
   ]
  },
  {
   "cell_type": "markdown",
   "id": "91fdded8",
   "metadata": {},
   "source": [
    "### 패턴"
   ]
  },
  {
   "cell_type": "markdown",
   "id": "fc12d542",
   "metadata": {},
   "source": [
    "~~~ python\n",
    "# 엑셀 파일 읽기\n",
    "import openpyxl\n",
    "\n",
    "excel_file = openpyxl.load_workbook('tmp.xlsx')\n",
    "excel_sheet = excel_file.active\n",
    "# excel_sheet = excel_file.get_sheet_by_name('IT뉴스')\n",
    "\n",
    "# 데이터 읽기\n",
    "for row in excel_sheet.rows:\n",
    "    print(row[0].value, row[1].value)\n",
    "\n",
    "excel_file.close()\n",
    "~~~"
   ]
  },
  {
   "cell_type": "markdown",
   "id": "a2aa4605",
   "metadata": {},
   "source": [
    "### Syntax"
   ]
  },
  {
   "cell_type": "markdown",
   "id": "690101d7",
   "metadata": {},
   "source": [
    "~~~ python\n",
    "# 파일 가져오기\n",
    "excel_file = openpyxl.load_workbook(r'C:\\Users\\tgkang\\Documents\\크롤링1\\tmp.xlsx')\n",
    "# 파일 생성\n",
    "excel_file = openpyxl.Workbook()\n",
    "\n",
    "# 활성화\n",
    "excel_sheet = excel_file.active\n",
    "# 시트 이름\n",
    "excel_sheet.title = 'testsheet'\n",
    "# 시트 선택\n",
    "excel_sheet = excel_file[\"상품정보\"]\n",
    "# sheet name 확인하기\n",
    "excel_file.sheetnames\n",
    "                         \n",
    "# 컬럼 크기 변경\n",
    "excel_sheet.column_dimensions['A'].width = 100\n",
    "excel_sheet.column_dimensions['B'].width = 20\n",
    "\n",
    "# 데이터 입력\n",
    "excel_sheet.append([\"하이\"])\n",
    "\n",
    "# 파일 저장\n",
    "excel_file.save(\"피카피카.xlsx\")\n",
    "# 파일 닫기\n",
    "excel_file.close()\n",
    "~~~"
   ]
  },
  {
   "cell_type": "markdown",
   "id": "d7b7f1e6",
   "metadata": {},
   "source": [
    "### 이미지"
   ]
  },
  {
   "cell_type": "code",
   "execution_count": null,
   "id": "d09887c2",
   "metadata": {},
   "outputs": [],
   "source": [
    "import win32com.client as win32\n",
    "excel = win32.gencache.EnsureDispatch('Excel.Application')\n",
    "wb = excel.Workbooks.Add()\n",
    "ws = wb.Sheets(\"Sheet1\")\n",
    "rng = ws.Range(\"B2\")\n",
    "image = ws.Shapes.AddPicture(r\"C:\\Users\\tgkang\\Documents\\크롤링2\\103\\image0.jpg\", False, True, rng.Left, rng.Top, 100, 100)\n",
    "excel.Visible=True"
   ]
  },
  {
   "cell_type": "markdown",
   "id": "3a353376",
   "metadata": {},
   "source": [
    "# openAPI"
   ]
  },
  {
   "cell_type": "markdown",
   "id": "a658899b",
   "metadata": {},
   "source": [
    "## naver"
   ]
  },
  {
   "cell_type": "markdown",
   "id": "db54f62c",
   "metadata": {},
   "source": [
    "### 기본 패턴"
   ]
  },
  {
   "cell_type": "markdown",
   "id": "f12f6096",
   "metadata": {},
   "source": [
    "~~~ python\n",
    "import requests\n",
    "import pprint\n",
    "\n",
    "client_id = 'BTMVavws8Is7jmVpUcSL'\n",
    "client_secret = 'sDgiapg86l'\n",
    "\n",
    "naver_open_api = 'https://openapi.naver.com/v1/search/shop.json?query=갤럭시노트10'\n",
    "header_params = {\"X-Naver-Client-Id\":client_id, \"X-Naver-Client-Secret\":client_secret}\n",
    "res = requests.get(naver_open_api, headers=header_params) # header에 아이디 넣어보냄\n",
    "\n",
    "if res.status_code == 200:\n",
    "    data = res.json()\n",
    "    for index, item in enumerate(data['items']):\n",
    "        print (index + 1, item['title'], item['link'])\n",
    "else:\n",
    "    print (\"Error Code:\", res.status_code)\n",
    "\n",
    "~~~"
   ]
  },
  {
   "cell_type": "markdown",
   "id": "6743bda6",
   "metadata": {},
   "source": [
    "### 엑셀 저장"
   ]
  },
  {
   "cell_type": "markdown",
   "id": "07fc6e18",
   "metadata": {},
   "source": [
    "~~~ python\n",
    "import requests\n",
    "import openpyxl\n",
    "\n",
    "client_id = 'CgZgjTdS7F2naaLEhWRg'\n",
    "client_secret = 'oCwEtEw08Y'\n",
    "start, num = 1, 0 # 시작 페이지, 인덱스 설정\n",
    "\n",
    "excel_file = openpyxl.Workbook()\n",
    "excel_sheet = excel_file.active\n",
    "excel_sheet.column_dimensions['B'].width = 100 # 셀 너비 조정\n",
    "excel_sheet.column_dimensions['C'].width = 100\n",
    "excel_sheet.append(['랭킹', '제목', '링크'])\n",
    "\n",
    "for index in range(10):\n",
    "    start_number = start + (index * 100)\n",
    "    naver_open_api = 'https://openapi.naver.com/v1/search/shop.json?query=샤오미&display=100&start=' + str(start_number)\n",
    "    header_params = {\"X-Naver-Client-Id\":client_id, \"X-Naver-Client-Secret\":client_secret}\n",
    "    res = requests.get(naver_open_api, headers=header_params)\n",
    "    if res.status_code == 200:\n",
    "        data = res.json()\n",
    "        for item in data['items']:\n",
    "            num += 1\n",
    "            excel_sheet.append([num, item['title'], item['link']])\n",
    "    else:\n",
    "        print (\"Error Code:\", res.status_code)\n",
    "\n",
    "excel_file.save('IT.xlsx')\n",
    "excel_file.close()\n",
    "~~~"
   ]
  },
  {
   "cell_type": "markdown",
   "id": "184ad230",
   "metadata": {},
   "source": [
    "# 정규화"
   ]
  },
  {
   "cell_type": "markdown",
   "id": "c9918b9c",
   "metadata": {},
   "source": [
    "## 문자열 처리"
   ]
  },
  {
   "cell_type": "code",
   "execution_count": 76,
   "id": "9085f639",
   "metadata": {},
   "outputs": [
    {
     "data": {
      "text/plain": [
       "'1,2,3,4,5'"
      ]
     },
     "execution_count": 76,
     "metadata": {},
     "output_type": "execute_result"
    }
   ],
   "source": [
    "# 특정 문자 넣기\n",
    "string = \"12345\"\n",
    "comma = ','\n",
    "comma.join(string)"
   ]
  },
  {
   "cell_type": "code",
   "execution_count": 82,
   "id": "76091d2d",
   "metadata": {},
   "outputs": [
    {
     "data": {
      "text/plain": [
       "'Dave'"
      ]
     },
     "execution_count": 82,
     "metadata": {},
     "output_type": "execute_result"
    }
   ],
   "source": [
    "# 특정 문자외 제거\n",
    "string = \"      9999999999999999(Dave)888888888888888888     \"\n",
    "string.strip(\" 98()\")        # 앞 뒤 괄호를 다 지움"
   ]
  },
  {
   "cell_type": "code",
   "execution_count": 84,
   "id": "a80186d1",
   "metadata": {},
   "outputs": [
    {
     "data": {
      "text/plain": [
       "'Korea'"
      ]
     },
     "execution_count": 84,
     "metadata": {},
     "output_type": "execute_result"
    }
   ],
   "source": [
    "# 문자열 나누기 - 인덱스\n",
    "string = \"Dave goes to Korea\"\n",
    "string.split()[3]"
   ]
  },
  {
   "cell_type": "markdown",
   "id": "26afe443",
   "metadata": {},
   "source": [
    "## 정규식"
   ]
  },
  {
   "cell_type": "markdown",
   "id": "11ddf556",
   "metadata": {},
   "source": [
    "<table>\n",
    "    <thead>\n",
    "        <tr style=\"font-size:1.2em\">\n",
    "            <th style=\"text-align:center\">정규 표현식</th>\n",
    "            <th style=\"text-align:center\">축약 표현</th>\n",
    "            <th style=\"text-align:left\">사용 예</th>\n",
    "        </tr>\n",
    "    </thead>\n",
    "    <tbody>\n",
    "        <tr style=\"font-size:1.2em\">\n",
    "            <td style=\"text-align:center\">[0-9]</td>\n",
    "            <td style=\"text-align:center\">\\d</td>\n",
    "            <td style=\"text-align:left\">숫자를 찾음</td>\n",
    "        </tr>\n",
    "        <tr style=\"font-size:1.2em\">\n",
    "            <td style=\"text-align:center\">[^0-9]</td>\n",
    "            <td style=\"text-align:center\">\\D</td>\n",
    "            <td style=\"text-align:left\">숫자가 아닌 것을 찾음(텍스트, 특수 문자, white space(스페이스, 탭, 엔터 등등)를 찾을 때)</td>\n",
    "        </tr>\n",
    "        <tr style=\"font-size:1.2em\">\n",
    "            <td style=\"text-align:center\">[ \\t\\n\\r\\f\\v]</td>\n",
    "            <td style=\"text-align:center\">\\s</td>\n",
    "            <td style=\"text-align:left\">white space(스페이스, 탭, 엔터 등등) 문자인 것을 찾음</td>\n",
    "        </tr>\n",
    "        <tr style=\"font-size:1.2em\">\n",
    "            <td style=\"text-align:center\">[^ \\t\\n\\r\\f\\v]</td>\n",
    "            <td style=\"text-align:center\">\\S</td>\n",
    "            <td style=\"text-align:left\">white space(스페이스, 탭, 엔터 등등) 문자가 아닌 것을 찾음(텍스트, 특수 문자, 숫자를 찾을 때)</td>\n",
    "        </tr>\n",
    "        <tr style=\"font-size:1.2em\">\n",
    "            <td style=\"text-align:center\">[A-Za-z0-9]</td>\n",
    "            <td style=\"text-align:center\">\\w</td>\n",
    "            <td style=\"text-align:left\">문자, 숫자를 찾음</td>\n",
    "        </tr>\n",
    "        <tr style=\"font-size:1.2em\">\n",
    "            <td style=\"text-align:center\">[^A-Za-z0-9]</td>\n",
    "            <td style=\"text-align:cㅡenter\">\\W</td>\n",
    "            <td style=\"text-align:left\">문자, 숫자가 아닌 것을 찾음</td>\n",
    "        </tr>\n",
    "    </tbody>\n",
    "</table>"
   ]
  },
  {
   "cell_type": "markdown",
   "id": "eac4d16a",
   "metadata": {},
   "source": [
    "### sub"
   ]
  },
  {
   "cell_type": "code",
   "execution_count": 133,
   "id": "43f9eee4",
   "metadata": {},
   "outputs": [
    {
     "name": "stdout",
     "output_type": "stream",
     "text": [
      "(초급) - 강사가 실제 사용하는 자동 프로그램 소개 \n",
      "(초급) - 강사가 실제 사용하는 자동 모듈 소개 [2]\n"
     ]
    }
   ],
   "source": [
    "# re.sub\n",
    "string = '(초급) - 강사가 실제 사용하는 자동 프로그램 소개 [2]'\n",
    "import re\n",
    "print(re.sub('\\[[0-9]+\\]', '', string))\n",
    "print(re.sub('프로그램', '모듈', string)) # 찾아 바꾸기"
   ]
  },
  {
   "cell_type": "code",
   "execution_count": 149,
   "id": "dbe9e9ce",
   "metadata": {},
   "outputs": [
    {
     "data": {
      "text/plain": [
       "'801210*1011323'"
      ]
     },
     "execution_count": 149,
     "metadata": {},
     "output_type": "execute_result"
    }
   ],
   "source": [
    "import re\n",
    "pattern2 = re.compile('-')\n",
    "subed = pattern2.sub('*', '801210-1011323')  # sub(바꿀문자열, 본래문자열)\n",
    "subed"
   ]
  },
  {
   "cell_type": "markdown",
   "id": "37579c4a",
   "metadata": {},
   "source": [
    "### pattern"
   ]
  },
  {
   "cell_type": "code",
   "execution_count": 126,
   "id": "65d2e019",
   "metadata": {},
   "outputs": [
    {
     "name": "stdout",
     "output_type": "stream",
     "text": [
      "<re.Match object; span=(0, 3), match='DAA'>\n",
      "<re.Match object; span=(0, 3), match='D1A'>\n",
      "None\n",
      "None\n",
      "<re.Match object; span=(4, 7), match='D1A'>\n"
     ]
    }
   ],
   "source": [
    "# pattern 적용\n",
    "pattern = re.compile('D.A')  # .은 모든 숫자 및 문자\n",
    "print(pattern.search(\"DAA\")) # 해당\n",
    "print(pattern.search(\"D1A\")) # 해당\n",
    "print(pattern.search(\"D00A\")) # 해당 x\n",
    "print(pattern.search(\"d0A\")) # 해당 x\n",
    "print(pattern.search(\"d0A D1A 0111\")) # 해당"
   ]
  },
  {
   "cell_type": "code",
   "execution_count": 129,
   "id": "124298eb",
   "metadata": {},
   "outputs": [
    {
     "name": "stdout",
     "output_type": "stream",
     "text": [
      "<re.Match object; span=(0, 3), match='D.A'>\n",
      "None\n"
     ]
    }
   ],
   "source": [
    "# 특수문자 적용 \\ 사용\n",
    "pattern = re.compile('D\\.A') # 정말 \\ 기호 적용\n",
    "print(pattern.search(\"D.A\")) # 해당\n",
    "print(pattern.search(\"DDA\")) # 해당 x "
   ]
  },
  {
   "cell_type": "code",
   "execution_count": 130,
   "id": "fd42ca8d",
   "metadata": {},
   "outputs": [
    {
     "name": "stdout",
     "output_type": "stream",
     "text": [
      "<re.Match object; span=(0, 3), match='D.A'>\n",
      "None\n"
     ]
    }
   ],
   "source": [
    "# 특수문자 적용 [] 사용\n",
    "pattern = re.compile('D[.]A') # 정말 \\ 기호 적용\n",
    "print(pattern.search(\"D.A\")) # 해당\n",
    "print(pattern.search(\"DDA\")) # 해당 x "
   ]
  },
  {
   "cell_type": "markdown",
   "id": "ccf2963d",
   "metadata": {},
   "source": [
    "### match 와 search 함수\n",
    "* match : 문자열 처음부터 정규식과 매칭되는 패턴을 찾아서 리턴\n",
    "* search : 문자열 전체를 검색해서 정규식과 매칭되는 패턴을 찾아서 리턴"
   ]
  },
  {
   "cell_type": "code",
   "execution_count": 144,
   "id": "401e2377",
   "metadata": {},
   "outputs": [
    {
     "name": "stdout",
     "output_type": "stream",
     "text": [
      "None\n",
      "<re.Match object; span=(1, 4), match='ave'>\n"
     ]
    }
   ],
   "source": [
    "import re\n",
    "pattern = re.compile('[a-z]+') \n",
    "matched = pattern.match('Dave')\n",
    "print(matched)\n",
    "searched = pattern.search(\"Dave\")\n",
    "print(searched)"
   ]
  },
  {
   "cell_type": "markdown",
   "id": "33db7cd5",
   "metadata": {},
   "source": [
    "### findall\n",
    "정규표현식과 매칭되는 모든 문자열을 리스트 객체로 리턴함"
   ]
  },
  {
   "cell_type": "code",
   "execution_count": 145,
   "id": "660d54a6",
   "metadata": {},
   "outputs": [
    {
     "name": "stdout",
     "output_type": "stream",
     "text": [
      "['ame', 'of', 'ife', 'in', 'ython']\n"
     ]
    }
   ],
   "source": [
    "import re\n",
    "pattern = re.compile('[a-z]+')\n",
    "findalled = pattern.findall('Game of Life in Python')\n",
    "print (findalled)"
   ]
  },
  {
   "cell_type": "code",
   "execution_count": 146,
   "id": "555d575e",
   "metadata": {},
   "outputs": [
    {
     "name": "stdout",
     "output_type": "stream",
     "text": [
      "정규표현식에 맞는 문자열이 존재하지 않음\n"
     ]
    }
   ],
   "source": [
    "# findall 활용\n",
    "import re\n",
    "pattern = re.compile('[a-z]+')\n",
    "findalled = pattern.findall('GAME')\n",
    "if len(findalled) > 0:\n",
    "    print (\"정규표현식에 맞는 문자열이 존재함\")\n",
    "else:\n",
    "    print (\"정규표현식에 맞는 문자열이 존재하지 않음\")"
   ]
  },
  {
   "cell_type": "markdown",
   "id": "8d5b84cd",
   "metadata": {},
   "source": [
    "### split"
   ]
  },
  {
   "cell_type": "code",
   "execution_count": 147,
   "id": "1ba9c4e4",
   "metadata": {},
   "outputs": [
    {
     "data": {
      "text/plain": [
       "['python', 'java']"
      ]
     },
     "execution_count": 147,
     "metadata": {},
     "output_type": "execute_result"
    }
   ],
   "source": [
    "import re\n",
    "pattern2 = re.compile(':')\n",
    "splited = pattern2.split('python:java')\n",
    "splited"
   ]
  },
  {
   "cell_type": "markdown",
   "id": "794e56d9",
   "metadata": {},
   "source": [
    "### ? , \\* , +\n",
    "* ? 는 앞 문자가 0번 또는 1번 표시되는 패턴 (없어도 되고, 한번 있어도 되는 패턴)\n",
    "* \\* 는 앞 문자가 0번 또는 그 이상 반복되는 패턴\n",
    "* \\+ 는 앞 문자가 1번 또는 그 이상 반복되는 패턴"
   ]
  },
  {
   "cell_type": "code",
   "execution_count": 137,
   "id": "7d7f5aad",
   "metadata": {},
   "outputs": [
    {
     "name": "stdout",
     "output_type": "stream",
     "text": [
      "<re.Match object; span=(0, 1), match='A'>\n",
      "<re.Match object; span=(0, 2), match='DA'>\n",
      "<re.Match object; span=(5, 7), match='DA'>\n"
     ]
    }
   ],
   "source": [
    "pattern = re.compile('D?A')   \n",
    "print(pattern.search(\"A\"))\n",
    "print(pattern.search(\"DA\"))\n",
    "print(pattern.search(\"DDDDDDA\"))"
   ]
  },
  {
   "cell_type": "code",
   "execution_count": 136,
   "id": "b85b01a6",
   "metadata": {},
   "outputs": [
    {
     "name": "stdout",
     "output_type": "stream",
     "text": [
      "<re.Match object; span=(0, 1), match='A'>\n",
      "<re.Match object; span=(0, 2), match='DA'>\n",
      "<re.Match object; span=(0, 29), match='DDDDDDDDDDDDDDDDDDDDDDDDDDDDA'>\n"
     ]
    }
   ],
   "source": [
    "pattern = re.compile('D*A')    \n",
    "print(pattern.search(\"DA\"))\n",
    "print(pattern.search(\"DDDDDDDDDDDDDDDDDDDDDDDDDDDDA\"))"
   ]
  },
  {
   "cell_type": "markdown",
   "id": "1bc96a2e",
   "metadata": {},
   "source": [
    "### {n}, {m,n}\n",
    "* {n} : 앞 문자가 n 번 반복되는 패턴\n",
    "* {m, n} : 앞 문자가 m 번 반복되는 패턴부터 n 번 반복되는 패턴까지"
   ]
  },
  {
   "cell_type": "code",
   "execution_count": 139,
   "id": "9dee3edb",
   "metadata": {},
   "outputs": [
    {
     "name": "stdout",
     "output_type": "stream",
     "text": [
      "None\n",
      "<re.Match object; span=(0, 4), match='ADDA'>\n",
      "None\n"
     ]
    }
   ],
   "source": [
    "# {n}\n",
    "pattern = re.compile('AD{2}A')\n",
    "print(pattern.search(\"ADA\"))\n",
    "print(pattern.search(\"ADDA\"))\n",
    "print(pattern.search(\"ADDDA\"))"
   ]
  },
  {
   "cell_type": "code",
   "execution_count": 138,
   "id": "6f73a1a3",
   "metadata": {},
   "outputs": [
    {
     "name": "stdout",
     "output_type": "stream",
     "text": [
      "<re.Match object; span=(0, 4), match='ADDA'>\n",
      "<re.Match object; span=(0, 5), match='ADDDA'>\n",
      "<re.Match object; span=(0, 8), match='ADDDDDDA'>\n"
     ]
    }
   ],
   "source": [
    "# {m,n}\n",
    "pattern = re.compile('AD{2,6}A')    # {m,n} 은 붙여 써야 함 {m, n} 으로 쓰면 안됨(특이함)\n",
    "print(pattern.search(\"ADDA\"))\n",
    "print(pattern.search(\"ADDDA\"))\n",
    "print(pattern.search(\"ADDDDDDA\"))"
   ]
  },
  {
   "cell_type": "markdown",
   "id": "013de5c6",
   "metadata": {},
   "source": [
    "### [ ] 괄호 내 문자\n",
    "* 예:  [abc] 는 a, b, c 중 하나가 들어 있는 패턴을 말함"
   ]
  },
  {
   "cell_type": "code",
   "execution_count": 140,
   "id": "0bb9bf62",
   "metadata": {},
   "outputs": [
    {
     "name": "stdout",
     "output_type": "stream",
     "text": [
      "<re.Match object; span=(0, 1), match='a'>\n",
      "None\n"
     ]
    }
   ],
   "source": [
    "pattern = re.compile('[abcdefgABCDEFG]')    \n",
    "print(pattern.search(\"a1234\"))\n",
    "print(pattern.search(\"z1234\")  )"
   ]
  },
  {
   "cell_type": "markdown",
   "id": "9cf19bb1",
   "metadata": {},
   "source": [
    "### [a-zA-Z0-9]"
   ]
  },
  {
   "cell_type": "code",
   "execution_count": null,
   "id": "db1f42ff",
   "metadata": {},
   "outputs": [],
   "source": [
    "pattern = re.compile('[a-zA-Z0-9]') \n",
    "print(pattern.search(\"1234---\") )\n",
    "print(pattern.search(\"---------------!@#!@$!$%#%%%#%%@$!$!---\") )"
   ]
  },
  {
   "cell_type": "markdown",
   "id": "8004e758",
   "metadata": {},
   "source": [
    "### [^]"
   ]
  },
  {
   "cell_type": "code",
   "execution_count": 141,
   "id": "ee79c753",
   "metadata": {},
   "outputs": [
    {
     "data": {
      "text/plain": [
       "<re.Match object; span=(0, 1), match='-'>"
      ]
     },
     "execution_count": 141,
     "metadata": {},
     "output_type": "execute_result"
    }
   ],
   "source": [
    "pattern = re.compile('[^a-zA-Z0-9]') \n",
    "pattern.search(\"---------------!@#!@$!$%#%%%#%%@$!$!---\") "
   ]
  },
  {
   "cell_type": "code",
   "execution_count": null,
   "id": "b3fa81ce",
   "metadata": {},
   "outputs": [],
   "source": [
    "pattern = re.compile('[^ \\t\\n\\r\\f\\v]') \n",
    "pattern.search(\"-\") "
   ]
  },
  {
   "cell_type": "markdown",
   "id": "2cb35311",
   "metadata": {},
   "source": [
    "### 가-힣"
   ]
  },
  {
   "cell_type": "code",
   "execution_count": 143,
   "id": "c65e8dea",
   "metadata": {},
   "outputs": [
    {
     "data": {
      "text/plain": [
       "<re.Match object; span=(0, 1), match='안'>"
      ]
     },
     "execution_count": 143,
     "metadata": {},
     "output_type": "execute_result"
    }
   ],
   "source": [
    "pattern = re.compile('[가-힣]') \n",
    "pattern.search(\"안\") "
   ]
  },
  {
   "cell_type": "markdown",
   "id": "b120edf1",
   "metadata": {},
   "source": [
    "## 활용예제"
   ]
  },
  {
   "cell_type": "code",
   "execution_count": 158,
   "id": "c25e18b8",
   "metadata": {},
   "outputs": [
    {
     "name": "stdout",
     "output_type": "stream",
     "text": [
      "주민등록번호\n",
      "800215-*******\n",
      "821030-*******\n",
      "841230-*******\n",
      "790903-*******\n",
      "800125-*******\n",
      "820612-*******\n"
     ]
    }
   ],
   "source": [
    "# 주민 등록 번호\n",
    "import openpyxl\n",
    "work_book = openpyxl.load_workbook(r'C:\\Users\\tgkang\\Documents\\크롤링1\\data_kr.xlsx')\n",
    "work_sheet = work_book.active\n",
    "for each_row in work_sheet.rows:\n",
    "    print(re.sub('-[0-9]{7}', '-*******', each_row[1].value))\n",
    "\n",
    "work_book.close()"
   ]
  },
  {
   "cell_type": "code",
   "execution_count": 159,
   "id": "85c838b7",
   "metadata": {},
   "outputs": [],
   "source": [
    "import requests\n",
    "from bs4 import BeautifulSoup"
   ]
  },
  {
   "cell_type": "code",
   "execution_count": 222,
   "id": "7bfef5e0",
   "metadata": {},
   "outputs": [
    {
     "name": "stdout",
     "output_type": "stream",
     "text": [
      "1 [대우]대우 에어 써큘레이터DEF-KC1020스탠드선풍기 공기순환  -  35,900원\n",
      "2 [위닉스](공식인증점) 위닉스 뽀송 제습기 10리터 DXAE100-JWK  -  229,000원\n",
      "3 [대웅모닝컴](행사) 대웅모닝컴 14형 스탠드 선풍기 (신제품 입고)  -  29,900원\n",
      "4 [마이크로소프트]Xbox 충전식 배터리 +USB C타입 케이블  -  29,800원\n",
      "5 숲속바람 스탠드 선풍기 2022 신형 가정용선풍기 14형  -  29,900원\n",
      "6 [뽀송]공식인증점)위닉스 NEW 17L 제습기 DN3E170-LWK 1등급  -  379,000원\n",
      "7 [대웅모닝컴]대웅 3D 입체회전 리모컨 스탠드 써큘레이터 선풍기  -  39,800원\n",
      "8 [신일전자][신일] [화이트]  에어서큘레이터(SIF-FA800B)  -  109,200원\n",
      "9 [윈드피아](특가) 22년형 가정용 업소용 스탠드선풍기 WA-170  -  29,900원\n",
      "10 [르젠]내일도착르젠2세대 앱연동 BLDC 선풍기 LZEF-DC180 화이트  -  69,800원\n",
      "11 [대웅모닝컴]대웅 가정용 스탠드선풍기  키높이선풍기  -  28,800원\n",
      "12 [휘센]LG전자 휘센 제습기 DQ202PGUA (OK)  -  619,000원\n",
      "13 [보본]무선 캠핑 선풍기 탁상용 휴대용 캠핑용 타프팬  -  39,900원\n",
      "14 [신일전자]신일 기본형 선풍기 ---10% 다운로드 쿠폰---  -  57,900원\n",
      "15 [르젠]22년형+15%쿠폰) 르젠 APP연동 좌우회전 저소음 선풍기  -  79,800원\n",
      "16 [신일][신일] 2022년형 BLDC air S8 써큘레이터 (베이지/딥그린/라이트핑크)  -  134,400원\n",
      "17 [윈드피아]가정용 업소용 스탠드 리모컨 선풍기 인기상품 1700R  -  36,900원\n",
      "18 [한일]한일 2022년 신상품 35cm 기계식선풍기 EFe-G014  -  44,900원\n",
      "19 [위닉스](공식인증점) 위닉스 제습기 16리터 DO2E160-JWK  -  359,000원\n",
      "20 [뽀송]공식인증) 위닉스 1등급 제습기 16리터 DN2H160-IWK  -  359,000원\n",
      "21 [르젠]22년형+10%쿠폰) 르젠 리모컨 써큘레이터 저소음 선풍기 LZEF-AR03  -  49,800원\n",
      "22 [신일전자]프리미엄 BLDC 써큘레이터형 스탠드 선풍기 SIF-T14SH  -  139,900원\n",
      "23 [위닉스]10%쿠폰)인증점 위닉스 뽀송 제습기 10L DXAH100-JWK  -  219,000원\n",
      "24 [위닉스](인증점)위닉스 뽀송 제습기 16리터 DO2E160-JWK 1등급  -  359,000원\n",
      "25 [솔러스에어]1+1 2개 무선 선풍기 탁상용 미니 휴대용 캠핑 벽걸이  -  59,900원\n",
      "26 [뽀송]공식인증점)위닉스 NEW 17L 제습기 DN3E170-LWK 1등급  -  409,000원\n",
      "27 [삼성전자]삼성 윈도우핏 에어컨 길이 연장 키트 60cm  -  85,000원\n",
      "28 [엔보우]모노 탁상용 무선 휴대용 선풍기 2세대 1+1(할인 행사)  -  29,900원\n",
      "29 [통돌이]갤러리아 LG 일반 세탁기 TR12WL 12kg/화이트  -  383,000원\n",
      "30 [신일전자]신일 14형 좌석용 선풍기 SIF-14HKW 신일선풍기 4엽  -  62,000원\n",
      "31 [위닉스](공식인증점) 위닉스 뽀송 제습기 10L DXAH100-JWK  -  237,000원\n",
      "32 [필립스]PHILIPS 전기면도기 SkinIQ 5000 S5582/36 오션블루  -  159,000원\n",
      "33 [자우버]렌즈케어 200매 렌즈클리너 일회용 안경닦이 티슈  -  9,030원\n",
      "34 [숲속바람]Forest Wind 저소음 5엽 스탠드 선풍기 2022신상품  -  32,580원\n",
      "35 [신일전자][신일] (인기모델)[블랙]  에어서큘레이터(SIF-FB500A)  -  101,200원\n",
      "36 [제이닉스]제이닉스 14인치 스탠드 선풍기 가정용 JYF-KN4523  -  29,800원\n",
      "37 [샤오미]미밴드7 한글판 AOD탑재 공식수입 블랙/국내AS가능  -  59,800원\n",
      "38 [LG전자]LG전자 휘센 제습기 20L DQ202PGUA  -  699,000원\n",
      "39 [쿠쿠]본사직영 20L 전자레인지 CMW-A201DW 화이트  -  56,000원\n",
      "40 크레마 S (crema S) 블랙 / 화이트  -  199,000원\n",
      "41 [위닉스]DXSM170-IWK 위닉스 뽀송 제습기 17L / LK  -  372,750원\n",
      "42 [삼성전자]갤럭시 A53 5G SM-A536N 128G 자급제 _RM  -  507,130원\n",
      "43 [제이엠더블유]JMW M5001A PLUS BLDC 드라이기 거치대 세트+스타벅스  -  81,000원\n",
      "44 [로보락](혜택가149만원) 로보락 S7 MaxV Ultra 로봇청소기 울트라 자동세척  -  1,590,000원\n",
      "45 [위닉스][공식파트너]위닉스 뽀송 10리터 제습기 DXAE100-JWK  -  227,940원\n",
      "46 [레드울프]S22 노트20/노트10/S21/S20/S10/A53/A32 울트라 가죽  -  19,900원\n",
      "47 [삼성전자]삼성 갤럭시버즈2 블루투스 이어폰 SM-R177  -  94,640원\n",
      "48 [모이스]추가 10%쿠폰) 고급형 미니 제습기 저소음 소형 원룸 사무실 작은방  -  49,900원\n",
      "49 [삼성전자]삼성전자 DDR4 16G PC4-25600 (정품)-PL  -  76,890원\n",
      "50 [에코백스]쿠폰 139만원) (비밀쿠폰)에코백스 X1 옴니 로봇청소기 듀얼스테이션  -  1,590,000원\n",
      "51 S22 울트라 노트20/노트10/S21/S20/A53 A32 A23 가죽  -  19,900원\n",
      "52 [르젠][르젠] [빠른배송] 22년 신상 리모컨 써큘레이터 선풍기 LZEF-DC260  -  69,800원\n",
      "53 [캐리어]6평형 인버터 벽걸이 에어컨 ORCD061FAWWSD 22년최신형  -  529,000원\n",
      "54 [위니아]인증 위니아 가정용제습기 EDH8DNWB 8L  -  175,020원\n",
      "55 [유닉스]메탈티 무광블랙 1600W 헤어 드라이기 UN-A1610 접이식  -  23,900원\n",
      "56 유니맥스 UMF-R5314LDC 12단 BLDC모터 서큘형 선풍기  -  72,900원\n",
      "57 [테팔](10%중복할인) 블렌더 믹서기 블렌드포스 플러스 BL4258  -  42,900원\n",
      "58 CAXA UP 이영애 카사업 하트 페이스 탄력 기기 x 가히 에센스  -  189,000원\n",
      "59 [비달사순]비달사순 2000W 전문가용 헤어드라이기 VSD5129K  -  22,800원\n",
      "60 [일렉트로룩스]파워PRO 18V 무선청소기 ZB3411 (BEST 인기)  -  169,000원\n",
      "61 [르젠]22년형+15%쿠폰) 르젠 APP연동 입체회전 저소음 선풍기 LZDF-TR08  -  89,800원\n",
      "62 [쿠쿠]본사직영 CRP-CHP1010FD 10인용 IH전기압력 밥솥  -  249,000원\n",
      "63 [로지텍]로지텍코리아 정품 무선 마우스 MX MASTER 3S /무소음  -  139,000원\n",
      "64 [샤오미]MI 스마트 무선 선풍기 4세대 프로 PRO +  MI FAN2 PRO  -  111,300원\n",
      "65 [솔러스에어]1+1 2개 세트 휴대용 미니 무선 탁상용 캠핑 선풍기  -  54,900원\n",
      "66 [위닉스]공식인증점 2022년 신상품 제습기 17L DN3E170-LWK 1등급 뽀송  -  422,490원\n",
      "67 [휘센]LG전자 휘센 제습기 DQ162PGUA (OK)  -  509,400원\n",
      "68 [신일전자]신일 강화유리 무선 전기주전자 SEP-GW90  -  28,000원\n",
      "69 [노브랜드]노브랜드 표준형 선풍기 (FN280N)  -  34,800원\n",
      "70 [레노버]레노버 아이디어패드 Slim3 14ALC R5DOS4GB 샌드 41만  -  469,650원\n",
      "71 [삼성전자]846리터 3도어 양문형 냉장고 RS84T5041M9 공식인증점  -  1,199,000원\n",
      "72 [삼성전자]인버터 제습기 AY18BG7500GBD 1등급 혜택가 37.9만원  -  407,520원\n",
      "73 [신일전자]신일 12인치 선풍기 SIF-12MMC 5엽 가정용 스탠드형  -  49,800원\n",
      "74 [한경희생활과학]한경희생활과학 스탠드 스팀다리미 HESI-D1600WT  -  129,000원\n",
      "75 [스카이]핏 S 미니 블루투스 5.3 오픈형 무선이어폰  -  29,800원\n",
      "76 [쿠쿠](혜택가 92650원) 본사직영 BLDC 서큘레이터 선풍기 CF-AC1410WH  -  109,000원\n",
      "77 핸드폰 갤럭시S22울트라 S21 S20 노트20 노트10 노트9  -  9,900원\n",
      "78 [파세코]파세코 접이식 12인치 써큘레이터 PDF-MSFB1120W  -  119,000원\n",
      "79 [SK매직]20L 전자레인지 MWO-20M8A01 1년 무상A/S  -  63,700원\n",
      "80 [퀸메이드]초절전 BLDC 리모컨 선풍기 제로 써큘레이터 화이트  -  69,900원\n",
      "81 삼성전자 DDR4 8G PC4-25600 (정품)-PL  -  35,270원\n",
      "82 [삼성전자]삼성 윈도우핏 에어컨 길이 연장 키트 90cm  -  109,000원\n",
      "83 [쿠쿠]본사직영 CRP-HQB0310FS 3인용 IH전기압력 밥솥  -  135,000원\n",
      "84 [위닉스]DXJH193-KWK 뽀송 제습기 19L 81.5㎡/LK  -  489,020원\n",
      "85 [삼성전자]삼성 갤럭시버즈 프로 ANC 블루투스 이어폰 SM-R190  -  139,000원\n",
      "86 [신일전자][신일]  2022NEW [베이지]  BLDC 에어서큘레이터 AIR S8 (SIF-T09B  -  129,400원\n",
      "87 [신일전자]신일 선풍기 SIF-P14PCB 스탠드형 써큘레이터형  -  64,900원\n",
      "88 [뽀송]공식인증점)위닉스 17L제습기 {DN3E170-LWK} NEW/1등급  -  430,000원\n",
      "89 삼성 스탠드 선풍기 SFN-T35GFST  -  88,990원\n",
      "90 [신일전자]초미풍 스탠드 선풍기 SIF-D14BS 혜택가 59420원  -  69,900원\n",
      "91 [삼성전자]오디세이 G5 C34G55T 86.4cm 게이밍모니터 165Hz  -  599,000원\n",
      "92 [윈드피아]가정용선풍기 업소용선풍기 스탠드 선풍기 WA-370블랙  -  23,900원\n",
      "93 [삼성전자]삼성전자 WindowFit 창문형에어컨 AW05A5171EZA /MS  -  551,000원\n",
      "94 [샤오미]미밴드7 블랙 한글판 스트랩증정 국내AS  -  59,800원\n",
      "95 [삼성전자]삼성 공식인증 MicroSD EVO Plus 512GB MB-MC512KA EL  -  58,710원\n",
      "96 [위닉스]_위닉스 인버터 제습기 19L 1등급 DXJH193-KWK  -  499,000원\n",
      "97 [로이체]바람쎈 에어 써큘레이터/선풍기 RC-50  -  34,900원\n",
      "98 [신일전자]신일 BLDC 무소음 리모컨 선풍기 SIF-DC514NK  -  125,100원\n",
      "99 [신일전자]BLDC 입체회전 써큘레이터 SIF-DPNW90 혜택가  -  149,000원\n",
      "100 [쿠쿠]본사직영 20리터 전자레인지 CMW-A201DB 블랙  -  56,000원\n"
     ]
    }
   ],
   "source": []
  },
  {
   "cell_type": "code",
   "execution_count": 3,
   "id": "d14bf1a0",
   "metadata": {},
   "outputs": [
    {
     "data": {
      "text/plain": [
       "\"\\ndd = ['가']\\nfor item in dd:\\n    print(dd)\\n\""
      ]
     },
     "execution_count": 3,
     "metadata": {},
     "output_type": "execute_result"
    }
   ],
   "source": []
  },
  {
   "cell_type": "code",
   "execution_count": null,
   "id": "5e5da730",
   "metadata": {},
   "outputs": [],
   "source": []
  }
 ],
 "metadata": {
  "kernelspec": {
   "display_name": "Python 3 (ipykernel)",
   "language": "python",
   "name": "python3"
  },
  "language_info": {
   "codemirror_mode": {
    "name": "ipython",
    "version": 3
   },
   "file_extension": ".py",
   "mimetype": "text/x-python",
   "name": "python",
   "nbconvert_exporter": "python",
   "pygments_lexer": "ipython3",
   "version": "3.9.12"
  },
  "toc": {
   "base_numbering": 1,
   "nav_menu": {},
   "number_sections": true,
   "sideBar": true,
   "skip_h1_title": false,
   "title_cell": "Table of Contents",
   "title_sidebar": "Contents",
   "toc_cell": false,
   "toc_position": {
    "height": "559.2px",
    "left": "36px",
    "top": "88.8px",
    "width": "273.15px"
   },
   "toc_section_display": true,
   "toc_window_display": true
  }
 },
 "nbformat": 4,
 "nbformat_minor": 5
}
